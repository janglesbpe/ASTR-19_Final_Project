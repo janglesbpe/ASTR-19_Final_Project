{
 "cells": [
  {
   "cell_type": "code",
   "execution_count": 7,
   "id": "86ac048b-5eb4-4cb9-982b-9b663d5aa828",
   "metadata": {},
   "outputs": [
    {
     "ename": "ModuleNotFoundError",
     "evalue": "No module named 'numpy'",
     "output_type": "error",
     "traceback": [
      "\u001b[0;31m---------------------------------------------------------------------------\u001b[0m",
      "\u001b[0;31mModuleNotFoundError\u001b[0m                       Traceback (most recent call last)",
      "Cell \u001b[0;32mIn[7], line 1\u001b[0m\n\u001b[0;32m----> 1\u001b[0m \u001b[38;5;28;01mimport\u001b[39;00m \u001b[38;5;21;01mnumpy\u001b[39;00m \u001b[38;5;28;01mas\u001b[39;00m \u001b[38;5;21;01mnp\u001b[39;00m\n\u001b[1;32m      2\u001b[0m \u001b[38;5;28;01mimport\u001b[39;00m \u001b[38;5;21;01msep\u001b[39;00m\n",
      "\u001b[0;31mModuleNotFoundError\u001b[0m: No module named 'numpy'"
     ]
    }
   ],
   "source": [
    "import numpy as np\n",
    "import sep"
   ]
  },
  {
   "cell_type": "code",
   "execution_count": null,
   "id": "14649afd-b12d-47db-af88-9162626159c7",
   "metadata": {},
   "outputs": [
    {
     "ename": "ModuleNotFoundError",
     "evalue": "No module named 'astropy'",
     "output_type": "error",
     "traceback": [
      "\u001b[0;31m---------------------------------------------------------------------------\u001b[0m",
      "\u001b[0;31mModuleNotFoundError\u001b[0m                       Traceback (most recent call last)",
      "Cell \u001b[0;32mIn[5], line 1\u001b[0m\n\u001b[0;32m----> 1\u001b[0m \u001b[38;5;28;01mfrom\u001b[39;00m \u001b[38;5;21;01mastropy\u001b[39;00m\u001b[38;5;21;01m.\u001b[39;00m\u001b[38;5;21;01mio\u001b[39;00m \u001b[38;5;28;01mimport\u001b[39;00m fits\n\u001b[1;32m      2\u001b[0m \u001b[38;5;28;01mimport\u001b[39;00m \u001b[38;5;21;01mmatplotlib\u001b[39;00m\u001b[38;5;21;01m.\u001b[39;00m\u001b[38;5;21;01mpyplot\u001b[39;00m \u001b[38;5;28;01mas\u001b[39;00m \u001b[38;5;21;01mmlp\u001b[39;00m\n\u001b[1;32m      3\u001b[0m \u001b[38;5;28;01mfrom\u001b[39;00m \u001b[38;5;21;01mmatplotlib\u001b[39;00m \u001b[38;5;28;01mimport\u001b[39;00m rcParams\n",
      "\u001b[0;31mModuleNotFoundError\u001b[0m: No module named 'astropy'"
     ]
    }
   ],
   "source": [
    "from astropy.io import fits\n",
    "import matplotlib.pyplot as mlp\n",
    "from matplotlib import rcParams\n",
    "\n",
    "%matplotlib inline\n",
    "\n",
    "rcParams['figure.figsize'] = [10., 8.]"
   ]
  },
  {
   "cell_type": "markdown",
   "id": "485d0f08",
   "metadata": {},
   "source": [
    "**Image Display**\n",
    "\n",
    "via SEP instruction linked, define the F105W band image of the Hubble Ultra Deep Field from the FITS file\n",
    "defined ->"
   ]
  },
  {
   "cell_type": "code",
   "execution_count": 1,
   "id": "29a74ddc-4b11-457f-81e4-23ea2c8f483a",
   "metadata": {},
   "outputs": [
    {
     "ename": "NameError",
     "evalue": "name 'fits' is not defined",
     "output_type": "error",
     "traceback": [
      "\u001b[0;31m---------------------------------------------------------------------------\u001b[0m",
      "\u001b[0;31mNameError\u001b[0m                                 Traceback (most recent call last)",
      "Cell \u001b[0;32mIn[1], line 4\u001b[0m\n\u001b[1;32m      2\u001b[0m fdata_F105W \u001b[38;5;241m=\u001b[39m \u001b[38;5;124m\"\u001b[39m\u001b[38;5;124mimage.fits\u001b[39m\u001b[38;5;124m\"\u001b[39m\n\u001b[1;32m      3\u001b[0m \u001b[38;5;66;03m#read data\u001b[39;00m\n\u001b[0;32m----> 4\u001b[0m hdu_1 \u001b[38;5;241m=\u001b[39m \u001b[43mfits\u001b[49m\u001b[38;5;241m.\u001b[39mopen(fdata_image)\n\u001b[1;32m      5\u001b[0m \u001b[38;5;66;03m#get image data\u001b[39;00m\n\u001b[1;32m      6\u001b[0m data \u001b[38;5;241m=\u001b[39m hdu_1[\u001b[38;5;241m0\u001b[39m]\u001b[38;5;241m.\u001b[39mdata\n",
      "\u001b[0;31mNameError\u001b[0m: name 'fits' is not defined"
     ]
    }
   ],
   "source": [
    "#defining file name\n",
    "fdata_F105W = \"image.fits\"\n",
    "#read data\n",
    "hdu_1 = fits.open(fdata_image)\n",
    "#get image data\n",
    "data = hdu_1[0].data"
   ]
  },
  {
   "cell_type": "markdown",
   "id": "6fbe59aa",
   "metadata": {},
   "source": [
    "Displaying the image ->"
   ]
  },
  {
   "cell_type": "code",
   "execution_count": null,
   "id": "aa2514a1",
   "metadata": {},
   "outputs": [],
   "source": [
    "#show the image\n",
    "m, s = np.mean(data), np.std(data)\n",
    "mlp.imshow(data, interpolation='nearest', cmap='gray', vmin=m-s, vmax=m+s, origin='lower')\n",
    "mlp.colorbar();\n",
    "mlp.savefig('SEP_Image.png',bbox_inches=\"tight\",dpi=600)"
   ]
  },
  {
   "cell_type": "markdown",
   "id": "9bd846a1",
   "metadata": {},
   "source": [
    "**Background Subtraction**\n",
    "\n",
    "Using SEP to substract background and find sources"
   ]
  },
  {
   "cell_type": "code",
   "execution_count": null,
   "id": "bb12362b",
   "metadata": {
    "collapsed": true,
    "jupyter": {
     "outputs_hidden": true
    }
   },
   "outputs": [
    {
     "ename": "NameError",
     "evalue": "name 'data_2' is not defined",
     "output_type": "error",
     "traceback": [
      "\u001b[0;31m---------------------------------------------------------------------------\u001b[0m",
      "\u001b[0;31mNameError\u001b[0m                                 Traceback (most recent call last)",
      "Cell \u001b[0;32mIn[3], line 2\u001b[0m\n\u001b[1;32m      1\u001b[0m \u001b[38;5;66;03m#data\u001b[39;00m\n\u001b[0;32m----> 2\u001b[0m data \u001b[38;5;241m=\u001b[39m \u001b[43mdata_2\u001b[49m\u001b[38;5;241m.\u001b[39mbyteswap(inplace\u001b[38;5;241m=\u001b[39m\u001b[38;5;28;01mTrue\u001b[39;00m)\u001b[38;5;241m.\u001b[39mnewbyteorder()\n\u001b[1;32m      3\u001b[0m \u001b[38;5;66;03m#measure spatially varying background on the image\u001b[39;00m\n\u001b[1;32m      4\u001b[0m bkg \u001b[38;5;241m=\u001b[39m sep\u001b[38;5;241m.\u001b[39mBackground(data)\n",
      "\u001b[0;31mNameError\u001b[0m: name 'data_2' is not defined"
     ]
    }
   ],
   "source": [
    "#measure spatially varying background on the image\n",
    "bkg = sep.Background(data)"
   ]
  },
  {
   "cell_type": "code",
   "execution_count": null,
   "id": "9f2938e8-7c93-4c9e-8fc4-807f6a380b5b",
   "metadata": {},
   "outputs": [],
   "source": [
    "#getting \"global\" mean and noise of image background:\n",
    "print(bkg.globalback)\n",
    "print(bkg.globalrms)"
   ]
  },
  {
   "cell_type": "code",
   "execution_count": null,
   "id": "8c15a4fc",
   "metadata": {},
   "outputs": [],
   "source": [
    "# evaluate background as 2-d array, same size as original image\n",
    "bkg_image = bkg.back()\n",
    "# bkg_image = np.array(bkg) # equivalent to above"
   ]
  },
  {
   "cell_type": "code",
   "execution_count": null,
   "id": "f9ab9900",
   "metadata": {},
   "outputs": [
    {
     "ename": "NameError",
     "evalue": "name 'mlp' is not defined",
     "output_type": "error",
     "traceback": [
      "\u001b[0;31m---------------------------------------------------------------------------\u001b[0m",
      "\u001b[0;31mNameError\u001b[0m                                 Traceback (most recent call last)",
      "Cell \u001b[0;32mIn[6], line 2\u001b[0m\n\u001b[1;32m      1\u001b[0m \u001b[38;5;66;03m# show the background\u001b[39;00m\n\u001b[0;32m----> 2\u001b[0m \u001b[43mmlp\u001b[49m\u001b[38;5;241m.\u001b[39mimshow(bkg_image, interpolation\u001b[38;5;241m=\u001b[39m\u001b[38;5;124m'\u001b[39m\u001b[38;5;124mnearest\u001b[39m\u001b[38;5;124m'\u001b[39m, cmap\u001b[38;5;241m=\u001b[39m\u001b[38;5;124m'\u001b[39m\u001b[38;5;124mblue\u001b[39m\u001b[38;5;124m'\u001b[39m, origin\u001b[38;5;241m=\u001b[39m\u001b[38;5;124m'\u001b[39m\u001b[38;5;124mlower\u001b[39m\u001b[38;5;124m'\u001b[39m)\n\u001b[1;32m      3\u001b[0m mlp\u001b[38;5;241m.\u001b[39mcolorbar();\n\u001b[1;32m      4\u001b[0m mlp\u001b[38;5;241m.\u001b[39msavefig(\u001b[38;5;124m'\u001b[39m\u001b[38;5;124mHUDF_Background_Image.png\u001b[39m\u001b[38;5;124m'\u001b[39m,bbox_inches\u001b[38;5;241m=\u001b[39m\u001b[38;5;124m\"\u001b[39m\u001b[38;5;124mtight\u001b[39m\u001b[38;5;124m\"\u001b[39m,dpi\u001b[38;5;241m=\u001b[39m\u001b[38;5;241m600\u001b[39m)\n",
      "\u001b[0;31mNameError\u001b[0m: name 'mlp' is not defined"
     ]
    }
   ],
   "source": [
    "# show the background\n",
    "mlp.imshow(bkg_image, interpolation='nearest', cmap='gray', origin='lower')\n",
    "mlp.colorbar();\n",
    "mlp.savefig('Background_Image.png',bbox_inches=\"tight\",dpi=600)"
   ]
  },
  {
   "cell_type": "code",
   "execution_count": null,
   "id": "2424afd4",
   "metadata": {},
   "outputs": [],
   "source": [
    "#Subtracting the background\n",
    "data_sub = data - bkg"
   ]
  },
  {
   "cell_type": "markdown",
   "id": "2075ac2e",
   "metadata": {},
   "source": [
    "**Object Detection**\n",
    "\n",
    "With the removal of background noise, we can now run object detection on the data, and according to the SEP tutorial, the detection threshold should be at the constant value 1.5σ where σis the global background RMS (root mean square)"
   ]
  },
  {
   "cell_type": "code",
   "execution_count": null,
   "id": "2bb13219",
   "metadata": {},
   "outputs": [],
   "source": [
    "#define 'objects'\n",
    "objects =sep.extract(data_sub, 1.5, err=bkg.globalrms)"
   ]
  },
  {
   "cell_type": "code",
   "execution_count": null,
   "id": "f6c9ef2e-943d-4695-bf31-cb4847ae25ef",
   "metadata": {},
   "outputs": [],
   "source": [
    "# how many objects were detected\n",
    "len(objects)"
   ]
  },
  {
   "cell_type": "markdown",
   "id": "4a1b0157",
   "metadata": {},
   "source": [
    "Now that we have the number of objects, we can check the location of detected objects ->"
   ]
  },
  {
   "cell_type": "code",
   "execution_count": null,
   "id": "212287a4",
   "metadata": {},
   "outputs": [],
   "source": [
    "#How to circle objects via matplotlib Ellipses\n",
    "from matplotlib.patches import Ellipse\n",
    "\n",
    "# plot background-subtracted image\n",
    "fig, ax = mlp.subplots()\n",
    "m, s = np.mean(data_sub), np.std(data_sub)\n",
    "im = ax.imshow(data_sub, interpolation='nearest', cmap='gray',\n",
    "               vmin=m-s, vmax=m+s, origin='lower')\n",
    "\n",
    "# plot an ellipse for each object\n",
    "for i in range(len(objects)):\n",
    "    e = Ellipse(xy=(objects['x'][i], objects['y'][i]),\n",
    "                width=6*objects['a'][i],\n",
    "                height=6*objects['b'][i],\n",
    "                angle=objects['theta'][i] * 180. / np.pi)\n",
    "    e.set_facecolor('none')\n",
    "    e.set_edgecolor('red')\n",
    "    ax.add_artist(e)\n",
    "plt.savefig('Detection_Image.png',bbox_inches=\"tight\",dpi=600)"
   ]
  },
  {
   "cell_type": "code",
   "execution_count": null,
   "id": "a2d410f2-d6f5-4eed-b61d-509e03d6ad58",
   "metadata": {},
   "outputs": [],
   "source": [
    "# available fields\n",
    "objects.dtype.names"
   ]
  },
  {
   "cell_type": "markdown",
   "id": "beb75d35",
   "metadata": {},
   "source": [
    "**Aperture photometry**\n",
    "\n",
    "Finally, we’ll perform simple circular aperture photometry with a 3 pixel radius at the locations of the objects:"
   ]
  },
  {
   "cell_type": "code",
   "execution_count": null,
   "id": "747f9d2d",
   "metadata": {},
   "outputs": [],
   "source": [
    "flux, fluxerr, flag = sep.sum_circle(data_sub, objects['x'], objects['y'],\n",
    "                                     3.0, err=bkg.globalrms, gain=1.0)"
   ]
  },
  {
   "cell_type": "code",
   "execution_count": null,
   "id": "931e5a22",
   "metadata": {},
   "outputs": [],
   "source": [
    "# show the first 10 objects results:\n",
    "for i in range(10):\n",
    "    print(\"object {:d}: flux = {:f} +/- {:f}\".format(i, flux[i], fluxerr[i]))"
   ]
  }
 ],
 "metadata": {
  "kernelspec": {
   "display_name": "Python 3 (ipykernel)",
   "language": "python",
   "name": "python3"
  },
  "language_info": {
   "codemirror_mode": {
    "name": "ipython",
    "version": 3
   },
   "file_extension": ".py",
   "mimetype": "text/x-python",
   "name": "python",
   "nbconvert_exporter": "python",
   "pygments_lexer": "ipython3",
   "version": "3.12.7"
  }
 },
 "nbformat": 4,
 "nbformat_minor": 5
}
