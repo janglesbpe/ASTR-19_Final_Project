{
 "cells": [
  {
   "cell_type": "code",
   "execution_count": 7,
   "id": "86ac048b-5eb4-4cb9-982b-9b663d5aa828",
   "metadata": {},
   "outputs": [
    {
     "ename": "ModuleNotFoundError",
     "evalue": "No module named 'numpy'",
     "output_type": "error",
     "traceback": [
      "\u001b[0;31m---------------------------------------------------------------------------\u001b[0m",
      "\u001b[0;31mModuleNotFoundError\u001b[0m                       Traceback (most recent call last)",
      "Cell \u001b[0;32mIn[7], line 1\u001b[0m\n\u001b[0;32m----> 1\u001b[0m \u001b[38;5;28;01mimport\u001b[39;00m \u001b[38;5;21;01mnumpy\u001b[39;00m \u001b[38;5;28;01mas\u001b[39;00m \u001b[38;5;21;01mnp\u001b[39;00m\n\u001b[1;32m      2\u001b[0m \u001b[38;5;28;01mimport\u001b[39;00m \u001b[38;5;21;01msep\u001b[39;00m\n",
      "\u001b[0;31mModuleNotFoundError\u001b[0m: No module named 'numpy'"
     ]
    }
   ],
   "source": [
    "import numpy as np\n",
    "import sep"
   ]
  },
  {
   "cell_type": "code",
   "execution_count": null,
   "id": "14649afd-b12d-47db-af88-9162626159c7",
   "metadata": {},
   "outputs": [
    {
     "ename": "ModuleNotFoundError",
     "evalue": "No module named 'astropy'",
     "output_type": "error",
     "traceback": [
      "\u001b[0;31m---------------------------------------------------------------------------\u001b[0m",
      "\u001b[0;31mModuleNotFoundError\u001b[0m                       Traceback (most recent call last)",
      "Cell \u001b[0;32mIn[5], line 1\u001b[0m\n\u001b[0;32m----> 1\u001b[0m \u001b[38;5;28;01mfrom\u001b[39;00m \u001b[38;5;21;01mastropy\u001b[39;00m\u001b[38;5;21;01m.\u001b[39;00m\u001b[38;5;21;01mio\u001b[39;00m \u001b[38;5;28;01mimport\u001b[39;00m fits\n\u001b[1;32m      2\u001b[0m \u001b[38;5;28;01mimport\u001b[39;00m \u001b[38;5;21;01mmatplotlib\u001b[39;00m\u001b[38;5;21;01m.\u001b[39;00m\u001b[38;5;21;01mpyplot\u001b[39;00m \u001b[38;5;28;01mas\u001b[39;00m \u001b[38;5;21;01mmlp\u001b[39;00m\n\u001b[1;32m      3\u001b[0m \u001b[38;5;28;01mfrom\u001b[39;00m \u001b[38;5;21;01mmatplotlib\u001b[39;00m \u001b[38;5;28;01mimport\u001b[39;00m rcParams\n",
      "\u001b[0;31mModuleNotFoundError\u001b[0m: No module named 'astropy'"
     ]
    }
   ],
   "source": [
    "from astropy.io import fits\n",
    "import matplotlib.pyplot as mlp\n",
    "from matplotlib import rcParams\n",
    "\n",
    "%matplotlib inline\n",
    "\n",
    "rcParams['figure.figsize'] = [10., 8.]"
   ]
  },
  {
   "cell_type": "markdown",
   "id": "485d0f08",
   "metadata": {},
   "source": [
    "**Image Display**\n",
    "\n",
    "via SEP instruction linked, define the F105W band image of the Hubble Ultra Deep Field from the FITS file\n",
    "defined ->"
   ]
  },
  {
   "cell_type": "code",
   "execution_count": null,
   "id": "29a74ddc-4b11-457f-81e4-23ea2c8f483a",
   "metadata": {},
   "outputs": [
    {
     "ename": "NameError",
     "evalue": "name 'fits' is not defined",
     "output_type": "error",
     "traceback": [
      "\u001b[0;31m---------------------------------------------------------------------------\u001b[0m",
      "\u001b[0;31mNameError\u001b[0m                                 Traceback (most recent call last)",
      "Cell \u001b[0;32mIn[4], line 4\u001b[0m\n\u001b[1;32m      2\u001b[0m fdata_F105W \u001b[38;5;241m=\u001b[39m \u001b[38;5;124m\"\u001b[39m\u001b[38;5;124mhlsp_hudf12_hst_wfc3ir_udfmain_f105w_v1.0_drz.fits\u001b[39m\u001b[38;5;124m\"\u001b[39m\n\u001b[1;32m      3\u001b[0m \u001b[38;5;66;03m#read data\u001b[39;00m\n\u001b[0;32m----> 4\u001b[0m hdu_2 \u001b[38;5;241m=\u001b[39m \u001b[43mfits\u001b[49m\u001b[38;5;241m.\u001b[39mopen(fdata_F105W)\n\u001b[1;32m      5\u001b[0m \u001b[38;5;66;03m#get image data\u001b[39;00m\n\u001b[1;32m      6\u001b[0m data_2 \u001b[38;5;241m=\u001b[39m hdu_2[\u001b[38;5;241m0\u001b[39m]\u001b[38;5;241m.\u001b[39mdata\n",
      "\u001b[0;31mNameError\u001b[0m: name 'fits' is not defined"
     ]
    }
   ],
   "source": [
    "#defining file name\n",
    "fdata_F105W = \"hlsp_hudf12_hst_wfc3ir_udfmain_f105w_v1.0_drz.fits\"\n",
    "#read data\n",
    "hdu_2 = fits.open(fdata_F105W)\n",
    "#get image data\n",
    "data_2 = hdu_2[0].data"
   ]
  },
  {
   "cell_type": "markdown",
   "id": "6fbe59aa",
   "metadata": {},
   "source": [
    "Displaying the image ->"
   ]
  },
  {
   "cell_type": "code",
   "execution_count": null,
   "id": "aa2514a1",
   "metadata": {},
   "outputs": [],
   "source": [
    "#show the image\n",
    "m, s = np.mean(data_2), np.std(data_2)\n",
    "mlp.imshow(data_2, interpolation='nearest', cmap='gray', vmin=m-s, vmax=m+s, origin='lower')\n",
    "mlp.colorbar();\n",
    "mlp.savefig('HUDF_Image.png',bbox_inches=\"tight\",dpi=600)"
   ]
  },
  {
   "cell_type": "markdown",
   "id": "9bd846a1",
   "metadata": {},
   "source": [
    "**Background Subtraction**\n",
    "\n",
    "Using SEP to substract background and find sources"
   ]
  },
  {
   "cell_type": "code",
   "execution_count": null,
   "id": "bb12362b",
   "metadata": {
    "collapsed": true,
    "jupyter": {
     "outputs_hidden": true,
     "source_hidden": true
    }
   },
   "outputs": [
    {
     "ename": "NameError",
     "evalue": "name 'data_2' is not defined",
     "output_type": "error",
     "traceback": [
      "\u001b[0;31m---------------------------------------------------------------------------\u001b[0m",
      "\u001b[0;31mNameError\u001b[0m                                 Traceback (most recent call last)",
      "Cell \u001b[0;32mIn[3], line 2\u001b[0m\n\u001b[1;32m      1\u001b[0m \u001b[38;5;66;03m#data\u001b[39;00m\n\u001b[0;32m----> 2\u001b[0m data \u001b[38;5;241m=\u001b[39m \u001b[43mdata_2\u001b[49m\u001b[38;5;241m.\u001b[39mbyteswap(inplace\u001b[38;5;241m=\u001b[39m\u001b[38;5;28;01mTrue\u001b[39;00m)\u001b[38;5;241m.\u001b[39mnewbyteorder()\n\u001b[1;32m      3\u001b[0m \u001b[38;5;66;03m#measure spatially varying background on the image\u001b[39;00m\n\u001b[1;32m      4\u001b[0m bkg \u001b[38;5;241m=\u001b[39m sep\u001b[38;5;241m.\u001b[39mBackground(data)\n",
      "\u001b[0;31mNameError\u001b[0m: name 'data_2' is not defined"
     ]
    }
   ],
   "source": [
    "#data\n",
    "data = data_2.byteswap(inplace=True).newbyteorder()\n",
    "#measure spatially varying background on the image\n",
    "bkg = sep.Background(data)\n",
    "#getting \"global\" mean and noise of image background:\n",
    "print(bkg.globalback)\n",
    "print(bkg.globalrms)"
   ]
  },
  {
   "cell_type": "code",
   "execution_count": null,
   "id": "8c15a4fc",
   "metadata": {},
   "outputs": [],
   "source": [
    "# evaluate background as 2-d array, same size as original image\n",
    "bkg_image = bkg.back()\n",
    "# bkg_image = np.array(bkg) # equivalent to above"
   ]
  },
  {
   "cell_type": "code",
   "execution_count": null,
   "id": "f9ab9900",
   "metadata": {},
   "outputs": [
    {
     "ename": "NameError",
     "evalue": "name 'mlp' is not defined",
     "output_type": "error",
     "traceback": [
      "\u001b[0;31m---------------------------------------------------------------------------\u001b[0m",
      "\u001b[0;31mNameError\u001b[0m                                 Traceback (most recent call last)",
      "Cell \u001b[0;32mIn[6], line 2\u001b[0m\n\u001b[1;32m      1\u001b[0m \u001b[38;5;66;03m# show the background\u001b[39;00m\n\u001b[0;32m----> 2\u001b[0m \u001b[43mmlp\u001b[49m\u001b[38;5;241m.\u001b[39mimshow(bkg_image, interpolation\u001b[38;5;241m=\u001b[39m\u001b[38;5;124m'\u001b[39m\u001b[38;5;124mnearest\u001b[39m\u001b[38;5;124m'\u001b[39m, cmap\u001b[38;5;241m=\u001b[39m\u001b[38;5;124m'\u001b[39m\u001b[38;5;124mblue\u001b[39m\u001b[38;5;124m'\u001b[39m, origin\u001b[38;5;241m=\u001b[39m\u001b[38;5;124m'\u001b[39m\u001b[38;5;124mlower\u001b[39m\u001b[38;5;124m'\u001b[39m)\n\u001b[1;32m      3\u001b[0m mlp\u001b[38;5;241m.\u001b[39mcolorbar();\n\u001b[1;32m      4\u001b[0m mlp\u001b[38;5;241m.\u001b[39msavefig(\u001b[38;5;124m'\u001b[39m\u001b[38;5;124mHUDF_Background_Image.png\u001b[39m\u001b[38;5;124m'\u001b[39m,bbox_inches\u001b[38;5;241m=\u001b[39m\u001b[38;5;124m\"\u001b[39m\u001b[38;5;124mtight\u001b[39m\u001b[38;5;124m\"\u001b[39m,dpi\u001b[38;5;241m=\u001b[39m\u001b[38;5;241m600\u001b[39m)\n",
      "\u001b[0;31mNameError\u001b[0m: name 'mlp' is not defined"
     ]
    }
   ],
   "source": [
    "# show the background\n",
    "mlp.imshow(bkg_image, interpolation='nearest', cmap='blue', origin='lower')\n",
    "mlp.colorbar();\n",
    "mlp.savefig('HUDF_Background_Image.png',bbox_inches=\"tight\",dpi=600)"
   ]
  },
  {
   "cell_type": "code",
   "execution_count": null,
   "id": "2424afd4",
   "metadata": {},
   "outputs": [],
   "source": [
    "#Subtracting the background\n",
    "data_sub = data - bkg"
   ]
  },
  {
   "cell_type": "markdown",
   "id": "2075ac2e",
   "metadata": {},
   "source": [
    "**Object Detection**\n",
    "\n",
    "With the removal of background noise, we can now run object detection on the data, and according to the SEP tutorial, the detection threshold should be at the constant value 1.5σ where σis the global background RMS (root mean square)"
   ]
  },
  {
   "cell_type": "code",
   "execution_count": null,
   "id": "2bb13219",
   "metadata": {},
   "outputs": [],
   "source": [
    "#define 'objects'\n",
    "objects =sep.extract(data_sub, 1.5, err=bkg.globalrms)\n",
    "# how many objects were detected\n",
    "len(objects)"
   ]
  },
  {
   "cell_type": "markdown",
   "id": "4a1b0157",
   "metadata": {},
   "source": [
    "Now that we have the number of objects, we can check the location of detected objects ->"
   ]
  },
  {
   "cell_type": "code",
   "execution_count": null,
   "id": "212287a4",
   "metadata": {},
   "outputs": [],
   "source": [
    "#How to circle objects via matplotlib Ellipses\n",
    "from matplotlib.patches import Ellipse\n",
    "\n",
    "# plot background-subtracted image\n",
    "fig, ax = plt.subplots()\n",
    "m, s = np.mean(data_sub), np.std(data_sub)\n",
    "im = ax.imshow(data_sub, interpolation='nearest', cmap='gray',\n",
    "               vmin=m-s, vmax=m+s, origin='lower')\n",
    "\n",
    "# plot an ellipse for each object\n",
    "for i in range(len(objects)):\n",
    "    e = Ellipse(xy=(objects['x'][i], objects['y'][i]),\n",
    "                width=6*objects['a'][i],\n",
    "                height=6*objects['b'][i],\n",
    "                angle=objects['theta'][i] * 180. / np.pi)\n",
    "    e.set_facecolor('none')\n",
    "    e.set_edgecolor('green')\n",
    "    ax.add_artist(e)"
   ]
  },
  {
   "cell_type": "markdown",
   "id": "beb75d35",
   "metadata": {},
   "source": [
    "**Aperture photometry**\n",
    "\n",
    "Finally, we’ll perform simple circular aperture photometry with a 3 pixel radius at the locations of the objects:"
   ]
  },
  {
   "cell_type": "code",
   "execution_count": null,
   "id": "747f9d2d",
   "metadata": {},
   "outputs": [],
   "source": [
    "flux, fluxerr, flag = sep.sum_circle(data_sub, objects['x'], objects['y'],\n",
    "                                     3.0, err=bkg.globalrms, gain=1.0)"
   ]
  },
  {
   "cell_type": "code",
   "execution_count": null,
   "id": "931e5a22",
   "metadata": {},
   "outputs": [],
   "source": [
    "# show the first 10 objects results:\n",
    "for i in range(10):\n",
    "    print(\"object {:d}: flux = {:f} +/- {:f}\".format(i, flux[i], fluxerr[i]))"
   ]
  },
  {
   "cell_type": "markdown",
   "id": "520dcae7",
   "metadata": {},
   "source": [
    "**Histogram Code**\n",
    "\n"
   ]
  },
  {
   "cell_type": "code",
   "execution_count": null,
   "id": "e18957ea",
   "metadata": {},
   "outputs": [],
   "source": [
    "flux_mean = np.mean(flux)\n",
    "flux_std = np.std(flux)\n",
    "flux_median = np.median(flux)\n",
    "flux_outlier = np.max(flux)\n",
    "\n",
    "num_stds = ((flux_outlier - flux_mean) / flux_std)\n",
    "\n",
    "print(f\"Mean of the fluxes is {flux_mean}.\")\n",
    "print(f\"Median of the fluxes is {flux_median}.\")\n",
    "print(f\"Standard Deviation of the fluxes is {flux_std}.\")\n",
    "print(f\"The outlier is {flux_outlier}.\")\n",
    "print(f\"The number of deviations that the outlier lies from the mean is {num_stds}.\")\n",
    "\n",
    "#To not get a log10 error\n",
    "valid_flux = flux[flux > 0]\n",
    "f, ax = plt.subplots(1,1, figsize=(7,7))\n",
    "ax.hist(np.log10(flux), bins=20)\n",
    "mlp.show"
   ]
  },
  {
   "cell_type": "markdown",
   "id": "18e7c071",
   "metadata": {},
   "source": [
    "**FITS Files and RGB Image**\n",
    "\n",
    "file handling ->"
   ]
  },
  {
   "cell_type": "code",
   "execution_count": null,
   "id": "e2aaa508",
   "metadata": {},
   "outputs": [],
   "source": [
    "fdata_F105W=\"hlsp_hudf12_hst_wfc3ir_udfmain_f105w_v1.0_drz.fits\"\n",
    "fdata_F125W=\"hlsp_hudf12_hst_wfc3ir_udfmain_f125w_v1.0_drz.fits\"\n",
    "fdata_F160W=\"hlsp_hudf12_hst_wfc3ir_udfmain_f160w_v1.0_drz.fits\"\n",
    "\n",
    "hdu_2=fits.open(fdata_F105W)\n",
    "hdu_3=fits.open(fdata_F125W)\n",
    "hdu_4=fits.open(fdata_F160W)\n",
    "\n",
    "data_2=hdu_2[0].data\n",
    "data_3=hdu_3[0].data\n",
    "data_4=hdu_4[0].data"
   ]
  },
  {
   "cell_type": "markdown",
   "id": "cb06f8bf",
   "metadata": {},
   "source": [
    "Rescaling and Creating the Combination False Image"
   ]
  },
  {
   "cell_type": "code",
   "execution_count": null,
   "id": "8b9d9dbd",
   "metadata": {},
   "outputs": [],
   "source": [
    "def rescale_image(data):\n",
    "    pdata_tmp=data.copy()\n",
    "    m=np.nanmean(pdata_tmp)\n",
    "    vplmin=m/2.\n",
    "    vpmin=np.log10(vplmin)\n",
    "    vpmax=np.log10(m*100.)\n",
    "    pdata_tmp[pdata_tmp<vplmin]=vplmin\n",
    "    pdata_tmp=np.log10(pdata_tmp)\n",
    "    return pdata_tmp,vpmin,vpmax\n",
    "\n",
    "data_2_res, d2min,d2max=rescale_image(data_2)\n",
    "data_3_res, d3min,d3max=rescale_image(data_3)\n",
    "data_4_res, d4min,d4max=rescale_image(data_4)\n",
    "\n",
    "data_2_res[data_2_res<d2min]=d2min\n",
    "data_2_res[data_2_res>d2max]=d2max\n",
    "data_3_res[data_3_res<d3min]=d3min\n",
    "data_3_res[data_3_res>d3max]=d3max\n",
    "data_4_res[data_4_res<d4min]=d4min\n",
    "data_4_res[data_4_res>d4max]=d4max\n",
    "\n",
    "rgb=np.zeros((data_2_res.shape[0],data_2_res.shape[1],3))\n",
    "rgb[:,:,0]=(data_2_res-d2min)/(d2max-d2min)\n",
    "rgb[:,:,1]=(data_3_res-d3min)/(d3max-d3min)\n",
    "rgb[:,:,2]=(data_4_res-d4min)/(d4max-d4min)\n",
    "\n",
    "f,ax=mlp.subplots(1,1,figsize=(20,20))\n",
    "ax.axis('off')\n",
    "ax.imshow(rgb)\n",
    "mlp.savefig('FinalRBG.png', bbox_inches='tight',pad_inches=0,dpi=600)"
   ]
  }
 ],
 "metadata": {
  "kernelspec": {
   "display_name": "Python 3 (ipykernel)",
   "language": "python",
   "name": "python3"
  },
  "language_info": {
   "codemirror_mode": {
    "name": "ipython",
    "version": 3
   },
   "file_extension": ".py",
   "mimetype": "text/x-python",
   "name": "python",
   "nbconvert_exporter": "python",
   "pygments_lexer": "ipython3",
   "version": "3.12.7"
  }
 },
 "nbformat": 4,
 "nbformat_minor": 5
}
